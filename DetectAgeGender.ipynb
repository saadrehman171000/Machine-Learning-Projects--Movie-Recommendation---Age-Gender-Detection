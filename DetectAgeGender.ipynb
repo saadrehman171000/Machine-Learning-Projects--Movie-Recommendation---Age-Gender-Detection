{
 "cells": [
  {
   "cell_type": "code",
   "execution_count": 1,
   "metadata": {},
   "outputs": [
    {
     "name": "stdout",
     "output_type": "stream",
     "text": [
      "WARNING:tensorflow:From c:\\Python311\\Lib\\site-packages\\keras\\src\\losses.py:2976: The name tf.losses.sparse_softmax_cross_entropy is deprecated. Please use tf.compat.v1.losses.sparse_softmax_cross_entropy instead.\n",
      "\n"
     ]
    }
   ],
   "source": [
    "# Cell 1: Import necessary libraries\n",
    "import os\n",
    "import cv2\n",
    "import tkinter as tk\n",
    "from tkinter import filedialog, Label, CENTER, messagebox\n",
    "from deepface import DeepFace\n"
   ]
  },
  {
   "cell_type": "code",
   "execution_count": 2,
   "metadata": {},
   "outputs": [],
   "source": [
    "# Cell 2: Define the function to predict age and gender\n",
    "face_cascade = cv2.CascadeClassifier(cv2.data.haarcascades + 'haarcascade_frontalface_default.xml')\n",
    "\n",
    "def predict_age_gender(image_path, label):\n",
    "    img = cv2.imread(image_path)\n",
    "    gray = cv2.cvtColor(img, cv2.COLOR_BGR2GRAY)\n",
    "\n",
    "    faces = face_cascade.detectMultiScale(gray, 1.1, 4)\n",
    "    \n",
    "    result_str = \"\"\n",
    "    for (x, y, w, h) in faces:\n",
    "        face_img = img[y:y+h, x:x+w]\n",
    "        result = DeepFace.analyze(face_img, actions=['age', 'gender'], enforce_detection=False)\n",
    "        age = result[0]['age']\n",
    "        gender = result[0]['gender']\n",
    "        result_str += f\"Age: {age}, Gender: {gender}\\n\"\n",
    "        cv2.rectangle(img, (x, y), (x+w, y+h), (255, 0, 0), 2)\n",
    "        cv2.putText(img, f\"Age: {age}\", (x, y-10), cv2.FONT_HERSHEY_SIMPLEX, 0.9, (255, 0, 0), 2)\n",
    "        cv2.putText(img, f\"Gender: {gender}\", (x, y+h+30), cv2.FONT_HERSHEY_SIMPLEX, 0.9, (255, 0, 0), 2)\n",
    "    \n",
    "    cv2.namedWindow('Result', cv2.WINDOW_NORMAL)\n",
    "    cv2.resizeWindow('Result', 800, 600)  \n",
    "    cv2.imshow('Result', img)\n",
    "    label.config(text=result_str)\n"
   ]
  },
  {
   "cell_type": "code",
   "execution_count": 3,
   "metadata": {},
   "outputs": [],
   "source": [
    "# Cell 3: Define functions for file selection and GUI interaction\n",
    "def select_image(path, label):\n",
    "    root = tk.Tk()\n",
    "    root.withdraw() \n",
    "\n",
    "    file_path = filedialog.askopenfilename(initialdir=path)\n",
    "    if file_path:\n",
    "        predict_age_gender(file_path, label)\n",
    "\n",
    "def select_male(label):\n",
    "    select_image(male_path, label)\n",
    "\n",
    "def select_female(label):\n",
    "    select_image(female_path, label)\n",
    "\n",
    "def about():\n",
    "    messagebox.showinfo(\"About\", \"This program uses deep learning to predict the age and gender of faces in images.\")\n"
   ]
  },
  {
   "cell_type": "code",
   "execution_count": 4,
   "metadata": {},
   "outputs": [
    {
     "name": "stderr",
     "output_type": "stream",
     "text": [
      "Action: gender: 100%|██████████| 2/2 [00:06<00:00,  3.34s/it]\n",
      "Action: gender: 100%|██████████| 2/2 [00:00<00:00,  2.21it/s]\n"
     ]
    },
    {
     "ename": "KeyboardInterrupt",
     "evalue": "",
     "output_type": "error",
     "traceback": [
      "\u001b[1;31m---------------------------------------------------------------------------\u001b[0m",
      "\u001b[1;31mKeyboardInterrupt\u001b[0m                         Traceback (most recent call last)",
      "Cell \u001b[1;32mIn[4], line 36\u001b[0m\n\u001b[0;32m     33\u001b[0m result_label \u001b[38;5;241m=\u001b[39m Label(root, text\u001b[38;5;241m=\u001b[39m\u001b[38;5;124m\"\u001b[39m\u001b[38;5;124m\"\u001b[39m, justify\u001b[38;5;241m=\u001b[39mCENTER)\n\u001b[0;32m     34\u001b[0m result_label\u001b[38;5;241m.\u001b[39mpack(pady\u001b[38;5;241m=\u001b[39m\u001b[38;5;241m10\u001b[39m)\n\u001b[1;32m---> 36\u001b[0m \u001b[43mroot\u001b[49m\u001b[38;5;241;43m.\u001b[39;49m\u001b[43mmainloop\u001b[49m\u001b[43m(\u001b[49m\u001b[43m)\u001b[49m\n",
      "File \u001b[1;32mc:\\Python311\\Lib\\tkinter\\__init__.py:1485\u001b[0m, in \u001b[0;36mMisc.mainloop\u001b[1;34m(self, n)\u001b[0m\n\u001b[0;32m   1483\u001b[0m \u001b[38;5;28;01mdef\u001b[39;00m \u001b[38;5;21mmainloop\u001b[39m(\u001b[38;5;28mself\u001b[39m, n\u001b[38;5;241m=\u001b[39m\u001b[38;5;241m0\u001b[39m):\n\u001b[0;32m   1484\u001b[0m \u001b[38;5;250m    \u001b[39m\u001b[38;5;124;03m\"\"\"Call the mainloop of Tk.\"\"\"\u001b[39;00m\n\u001b[1;32m-> 1485\u001b[0m     \u001b[38;5;28;43mself\u001b[39;49m\u001b[38;5;241;43m.\u001b[39;49m\u001b[43mtk\u001b[49m\u001b[38;5;241;43m.\u001b[39;49m\u001b[43mmainloop\u001b[49m\u001b[43m(\u001b[49m\u001b[43mn\u001b[49m\u001b[43m)\u001b[49m\n",
      "\u001b[1;31mKeyboardInterrupt\u001b[0m: "
     ]
    }
   ],
   "source": [
    "# Cell 4: GUI Setup\n",
    "root = tk.Tk()\n",
    "root.title(\"Age and Gender Detection\")\n",
    "\n",
    "# Paths to male and female images\n",
    "male_path = r'C:\\Users\\Saad Rehman\\OneDrive\\Desktop\\Internship\\Training\\male'\n",
    "female_path = r'C:\\Users\\Saad Rehman\\OneDrive\\Desktop\\Internship\\Training\\female'\n",
    "\n",
    "# Menu Bar\n",
    "menu_bar = tk.Menu(root)\n",
    "root.config(menu=menu_bar)\n",
    "\n",
    "file_menu = tk.Menu(menu_bar, tearoff=0)\n",
    "menu_bar.add_cascade(label=\"File\", menu=file_menu)\n",
    "file_menu.add_command(label=\"Exit\", command=root.quit)\n",
    "\n",
    "help_menu = tk.Menu(menu_bar, tearoff=0)\n",
    "menu_bar.add_cascade(label=\"Help\", menu=help_menu)\n",
    "help_menu.add_command(label=\"About\", command=about)\n",
    "\n",
    "# Welcome Label\n",
    "welcome_label = Label(root, text=\"Welcome to Age and Gender Detection\", font=(\"Helvetica\", 16))\n",
    "welcome_label.pack(pady=10)\n",
    "\n",
    "# Buttons\n",
    "male_button = tk.Button(root, text=\"Male\", command=lambda: select_male(result_label))\n",
    "male_button.pack(pady=10)\n",
    "\n",
    "female_button = tk.Button(root, text=\"Female\", command=lambda: select_female(result_label))\n",
    "female_button.pack(pady=10)\n",
    "\n",
    "# Result Label\n",
    "result_label = Label(root, text=\"\", justify=CENTER)\n",
    "result_label.pack(pady=10)\n",
    "\n",
    "root.mainloop()\n"
   ]
  }
 ],
 "metadata": {
  "kernelspec": {
   "display_name": "Python 3",
   "language": "python",
   "name": "python3"
  },
  "language_info": {
   "codemirror_mode": {
    "name": "ipython",
    "version": 3
   },
   "file_extension": ".py",
   "mimetype": "text/x-python",
   "name": "python",
   "nbconvert_exporter": "python",
   "pygments_lexer": "ipython3",
   "version": "3.11.4"
  }
 },
 "nbformat": 4,
 "nbformat_minor": 2
}
